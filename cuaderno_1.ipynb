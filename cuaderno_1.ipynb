{
 "cells": [
  {
   "cell_type": "code",
   "execution_count": 1,
   "metadata": {},
   "outputs": [
    {
     "data": {
      "text/plain": [
       "10"
      ]
     },
     "execution_count": 1,
     "metadata": {},
     "output_type": "execute_result"
    }
   ],
   "source": [
    "# Una celda es un conjunto de líneas que se ejecutan al mismo tiempo.\n",
    "a = 5 + 5\n",
    "a"
   ]
  },
  {
   "cell_type": "code",
   "execution_count": 2,
   "metadata": {},
   "outputs": [],
   "source": [
    "# si hay una línea posterior al nombre, de una variable, su valor no aparece.\n",
    "# Las celdas se pueden ejecutar en cualquier orden.\n",
    "# Las variables permanecen hasta que se reinicie el kernel.\n",
    "# Las variables son comunes a todas las celdas del cuaderno.\n",
    "a = 3 + 5\n",
    "a\n",
    "b = 5"
   ]
  },
  {
   "cell_type": "code",
   "execution_count": 3,
   "metadata": {},
   "outputs": [
    {
     "name": "stdout",
     "output_type": "stream",
     "text": [
      "15\n"
     ]
    }
   ],
   "source": [
    "# si se imprime el valor, siempre aparece\n",
    "a = 5 + 10\n",
    "print(a)\n",
    "b = 5"
   ]
  },
  {
   "cell_type": "code",
   "execution_count": 6,
   "metadata": {},
   "outputs": [
    {
     "name": "stdout",
     "output_type": "stream",
     "text": [
      "8\n"
     ]
    }
   ],
   "source": [
    "# Una función realiza una tarea específica.\n",
    "# Python tiene sus propias funciones.\n",
    "\n",
    "# Imprimir un valor.\n",
    "print( 5 + 3 )"
   ]
  },
  {
   "cell_type": "code",
   "execution_count": 7,
   "metadata": {},
   "outputs": [
    {
     "name": "stdout",
     "output_type": "stream",
     "text": [
      "3\n"
     ]
    }
   ],
   "source": [
    "# len() nos da la longitud de una lista.\n",
    "a = [1, 2, 3]\n",
    "print( len(a) )"
   ]
  },
  {
   "cell_type": "code",
   "execution_count": 8,
   "metadata": {},
   "outputs": [
    {
     "name": "stdout",
     "output_type": "stream",
     "text": [
      "3\n",
      "1\n"
     ]
    }
   ],
   "source": [
    "# max() nos da el valor máximo.\n",
    "print( max(a) )\n",
    "\n",
    "# min() nos da el valor mínimo.\n",
    "print( min(a) )"
   ]
  },
  {
   "cell_type": "code",
   "execution_count": 9,
   "metadata": {},
   "outputs": [
    {
     "name": "stdout",
     "output_type": "stream",
     "text": [
      "4\n"
     ]
    }
   ],
   "source": [
    "# Uno puede definir sus propias funciones.\n",
    "\n",
    "def mi_funcion(variable_entrada):\n",
    "    variable_salida = 2 * variable_entrada\n",
    "    return variable_salida\n",
    "\n",
    "print(mi_funcion(2))"
   ]
  },
  {
   "cell_type": "code",
   "execution_count": 10,
   "metadata": {},
   "outputs": [
    {
     "name": "stdout",
     "output_type": "stream",
     "text": [
      "4\n"
     ]
    }
   ],
   "source": [
    "def f2(v_in):\n",
    "    v_out = 2 * v_in\n",
    "    print(v_out)\n",
    "\n",
    "f2(2)"
   ]
  },
  {
   "cell_type": "code",
   "execution_count": 11,
   "metadata": {},
   "outputs": [
    {
     "name": "stdout",
     "output_type": "stream",
     "text": [
      "5.52\n",
      "Ahora con tres decimales: 5.523\n",
      "Ahora con cero a la izquierda: 05.523\n"
     ]
    }
   ],
   "source": [
    "# Es posible darle formato al número con print con las cadenas f\n",
    "\n",
    "a = 5.5234\n",
    "\n",
    "print(f\"{a:.2f}\")\n",
    "print(f\"Ahora con tres decimales: {a:.3f}\")\n",
    "print(f\"Ahora con cero a la izquierda: {a:06.3f}\")"
   ]
  },
  {
   "cell_type": "code",
   "execution_count": 12,
   "metadata": {},
   "outputs": [
    {
     "name": "stdout",
     "output_type": "stream",
     "text": [
      "Verdadero\n"
     ]
    }
   ],
   "source": [
    "# El control de flujo repite líneas o restringe su ejecución.\n",
    "\n",
    "# Sentencia condicional if\n",
    "# if(condición):\n",
    "#     líneas si es verdadero.\n",
    "\n",
    "a = 5\n",
    "if(a==5):\n",
    "    print(\"Verdadero\")\n",
    "# Con doble =="
   ]
  },
  {
   "cell_type": "code",
   "execution_count": 13,
   "metadata": {},
   "outputs": [],
   "source": [
    "if(a==6):\n",
    "    print(\"Verdadero\")"
   ]
  },
  {
   "cell_type": "code",
   "execution_count": 14,
   "metadata": {},
   "outputs": [
    {
     "name": "stdout",
     "output_type": "stream",
     "text": [
      "falso\n"
     ]
    }
   ],
   "source": [
    "# else:\n",
    "#     líneas si if fue falso.\n",
    "\n",
    "if(a==6):\n",
    "    print(\"Verdadero\")\n",
    "else:\n",
    "    print(\"falso\")"
   ]
  },
  {
   "cell_type": "code",
   "execution_count": 15,
   "metadata": {},
   "outputs": [
    {
     "name": "stdout",
     "output_type": "stream",
     "text": [
      "2\n"
     ]
    }
   ],
   "source": [
    "# elif: si if fue falso, evalúa otra condición.\n",
    "\n",
    "if(a == 6):\n",
    "    print(1)\n",
    "elif(a==5):\n",
    "    print(2)"
   ]
  },
  {
   "cell_type": "code",
   "execution_count": 16,
   "metadata": {},
   "outputs": [
    {
     "name": "stdout",
     "output_type": "stream",
     "text": [
      "3\n"
     ]
    }
   ],
   "source": [
    "# Los tres enunciado se repiten.\n",
    "if(a == 6):\n",
    "    print(1)\n",
    "elif(a==4):\n",
    "    print(2)\n",
    "else:\n",
    "    print(3)"
   ]
  },
  {
   "cell_type": "code",
   "execution_count": 17,
   "metadata": {},
   "outputs": [
    {
     "name": "stdout",
     "output_type": "stream",
     "text": [
      "1\n",
      "2\n",
      "3\n",
      "4\n",
      "5\n"
     ]
    }
   ],
   "source": [
    "# for repite una instrucción para una serie de valores:\n",
    "\n",
    "# for VARIABLE in LISTA:\n",
    "#     CODIGO\n",
    "\n",
    "nums = [1, 2, 3, 4, 5]\n",
    "for n in nums:\n",
    "    print(n)"
   ]
  },
  {
   "cell_type": "code",
   "execution_count": 18,
   "metadata": {},
   "outputs": [
    {
     "name": "stdout",
     "output_type": "stream",
     "text": [
      "0\n",
      "1\n"
     ]
    }
   ],
   "source": [
    "# range nos genera una sucesión para usar en for.\n",
    "\n",
    "for i in range(0, 2):\n",
    "    print(i)"
   ]
  },
  {
   "cell_type": "code",
   "execution_count": 19,
   "metadata": {},
   "outputs": [
    {
     "name": "stdout",
     "output_type": "stream",
     "text": [
      "1\n",
      "2\n"
     ]
    }
   ],
   "source": [
    "for i in range(0, 2):\n",
    "    print( nums[i] )"
   ]
  },
  {
   "cell_type": "code",
   "execution_count": 21,
   "metadata": {},
   "outputs": [
    {
     "name": "stdout",
     "output_type": "stream",
     "text": [
      "1\n",
      "2\n"
     ]
    }
   ],
   "source": [
    "# break detiene el ciclo.\n",
    "\n",
    "for n in nums:\n",
    "    if n == 3:\n",
    "        break\n",
    "    else:\n",
    "        print(n)"
   ]
  },
  {
   "cell_type": "code",
   "execution_count": 22,
   "metadata": {},
   "outputs": [
    {
     "name": "stdout",
     "output_type": "stream",
     "text": [
      "1\n",
      "2\n"
     ]
    }
   ],
   "source": [
    "for n in nums[0:2]:\n",
    "    print(n)"
   ]
  },
  {
   "cell_type": "code",
   "execution_count": null,
   "metadata": {},
   "outputs": [],
   "source": [
    "# Actividad.\n",
    "# Haz una lista con el nombre de 5 amigos o amigas.\n",
    "# Haz un ciclo para imprimir los nombres de todos.\n",
    "# Haz un ciclo para imprimir el nombre de los últimos 3.\n",
    "# Haz un ciclo para imprimir el nombre de los impares (primero, tercero, ...)\n",
    "# Haz comentarios en tu código explicando lo que haces."
   ]
  }
 ],
 "metadata": {
  "kernelspec": {
   "display_name": "gv",
   "language": "python",
   "name": "python3"
  },
  "language_info": {
   "codemirror_mode": {
    "name": "ipython",
    "version": 3
   },
   "file_extension": ".py",
   "mimetype": "text/x-python",
   "name": "python",
   "nbconvert_exporter": "python",
   "pygments_lexer": "ipython3",
   "version": "3.9.9"
  },
  "orig_nbformat": 4,
  "vscode": {
   "interpreter": {
    "hash": "cce8d45697d85db6636183b0f945e1ffea3934773870cd67d93bb4bbe05deaec"
   }
  }
 },
 "nbformat": 4,
 "nbformat_minor": 2
}
